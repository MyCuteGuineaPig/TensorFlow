{
  "nbformat": 4,
  "nbformat_minor": 0,
  "metadata": {
    "colab": {
      "name": "Copy of NLP-Week4-Exercise-Shakespeare-Question.ipynb",
      "provenance": []
    },
    "kernelspec": {
      "name": "python3",
      "display_name": "Python 3"
    },
    "accelerator": "GPU"
  },
  "cells": [
    {
      "cell_type": "code",
      "metadata": {
        "id": "BOwsuGQQY9OL",
        "colab_type": "code",
        "colab": {}
      },
      "source": [
        "from tensorflow.keras.preprocessing.sequence import pad_sequences\n",
        "from tensorflow.keras.layers import Embedding, LSTM, Dense, Dropout, Bidirectional\n",
        "from tensorflow.keras.preprocessing.text import Tokenizer\n",
        "from tensorflow.keras.models import Sequential\n",
        "from tensorflow.keras.optimizers import Adam\n",
        "### YOUR CODE HERE\n",
        "# Figure out how to import regularizers\n",
        "###\n",
        "from tensorflow.keras import regularizers\n",
        "import tensorflow.keras.utils as ku \n",
        "import numpy as np "
      ],
      "execution_count": 0,
      "outputs": []
    },
    {
      "cell_type": "code",
      "metadata": {
        "colab_type": "code",
        "id": "PRnDnCW-Z7qv",
        "colab": {
          "base_uri": "https://localhost:8080/",
          "height": 204
        },
        "outputId": "2e676980-9f64-420e-b571-257a6f604c0d"
      },
      "source": [
        "tokenizer = Tokenizer()\n",
        "!wget --no-check-certificate \\\n",
        "    https://storage.googleapis.com/laurencemoroney-blog.appspot.com/sonnets.txt \\\n",
        "    -O /tmp/sonnets.txt\n",
        "data = open('/tmp/sonnets.txt').read()\n",
        "\n",
        "corpus = data.lower().split(\"\\n\")\n",
        "\n",
        "\n",
        "tokenizer.fit_on_texts(corpus)\n",
        "total_words = len(tokenizer.word_index) + 1\n",
        "\n",
        "# create input sequences using list of tokens\n",
        "input_sequences = []\n",
        "for line in corpus:\n",
        "\ttoken_list = tokenizer.texts_to_sequences([line])[0]\n",
        "\tfor i in range(1, len(token_list)):\n",
        "\t\tn_gram_sequence = token_list[:i+1]\n",
        "\t\tinput_sequences.append(n_gram_sequence)\n",
        "\n",
        "\n",
        "# pad sequences \n",
        "max_sequence_len = max([len(x) for x in input_sequences])\n",
        "input_sequences = np.array(pad_sequences(input_sequences, maxlen=max_sequence_len, padding='pre'))\n",
        "\n",
        "# create predictors and label\n",
        "predictors, label = input_sequences[:,:-1],input_sequences[:,-1]\n",
        "\n",
        "label = ku.to_categorical(label, num_classes=total_words)"
      ],
      "execution_count": 2,
      "outputs": [
        {
          "output_type": "stream",
          "text": [
            "--2019-10-10 20:27:22--  https://storage.googleapis.com/laurencemoroney-blog.appspot.com/sonnets.txt\n",
            "Resolving storage.googleapis.com (storage.googleapis.com)... 74.125.20.128, 2607:f8b0:400e:c08::80\n",
            "Connecting to storage.googleapis.com (storage.googleapis.com)|74.125.20.128|:443... connected.\n",
            "HTTP request sent, awaiting response... 200 OK\n",
            "Length: 93578 (91K) [text/plain]\n",
            "Saving to: ‘/tmp/sonnets.txt’\n",
            "\n",
            "\r/tmp/sonnets.txt      0%[                    ]       0  --.-KB/s               \r/tmp/sonnets.txt    100%[===================>]  91.38K  --.-KB/s    in 0.001s  \n",
            "\n",
            "2019-10-10 20:27:23 (150 MB/s) - ‘/tmp/sonnets.txt’ saved [93578/93578]\n",
            "\n"
          ],
          "name": "stdout"
        }
      ]
    },
    {
      "cell_type": "code",
      "metadata": {
        "id": "w9vH8Y59ajYL",
        "colab_type": "code",
        "colab": {
          "base_uri": "https://localhost:8080/",
          "height": 649
        },
        "outputId": "da15adea-4d5e-4f74-c3c8-b02b120ed58a"
      },
      "source": [
        "model = Sequential()\n",
        "model.add(Embedding(total_words, 100, input_length=max_sequence_len-1))# Your Embedding Layer)\n",
        "model.add(Bidirectional(LSTM(150, return_sequences = True)))# An LSTM Layer)\n",
        "model.add(Dropout(0.2))# A dropout layer)\n",
        "model.add(LSTM(100))# Another LSTM Layer)\n",
        "model.add(Dense(total_words/2, activation='relu', \n",
        "                kernel_regularizer=regularizers.l2(0.01)))# A Dense Layer including regularizers)\n",
        "model.add(Dense(total_words, activation='softmax'))# A Dense Layer)\n",
        "# Pick an optimizer\n",
        "model.compile(loss='categorical_crossentropy', \n",
        "              optimizer='adam', \n",
        "              metrics=['accuracy'])# Pick a loss function and an optimizer)\n",
        "print(model.summary())\n"
      ],
      "execution_count": 3,
      "outputs": [
        {
          "output_type": "stream",
          "text": [
            "WARNING:tensorflow:From /usr/local/lib/python3.6/dist-packages/tensorflow_core/python/keras/initializers.py:119: calling RandomUniform.__init__ (from tensorflow.python.ops.init_ops) with dtype is deprecated and will be removed in a future version.\n",
            "Instructions for updating:\n",
            "Call initializer instance with the dtype argument instead of passing it to the constructor\n",
            "WARNING:tensorflow:From /usr/local/lib/python3.6/dist-packages/tensorflow_core/python/ops/resource_variable_ops.py:1630: calling BaseResourceVariable.__init__ (from tensorflow.python.ops.resource_variable_ops) with constraint is deprecated and will be removed in a future version.\n",
            "Instructions for updating:\n",
            "If using Keras pass *_constraint arguments to layers.\n",
            "WARNING:tensorflow:From /usr/local/lib/python3.6/dist-packages/tensorflow_core/python/ops/init_ops.py:97: calling GlorotUniform.__init__ (from tensorflow.python.ops.init_ops) with dtype is deprecated and will be removed in a future version.\n",
            "Instructions for updating:\n",
            "Call initializer instance with the dtype argument instead of passing it to the constructor\n",
            "WARNING:tensorflow:From /usr/local/lib/python3.6/dist-packages/tensorflow_core/python/ops/init_ops.py:97: calling Orthogonal.__init__ (from tensorflow.python.ops.init_ops) with dtype is deprecated and will be removed in a future version.\n",
            "Instructions for updating:\n",
            "Call initializer instance with the dtype argument instead of passing it to the constructor\n",
            "WARNING:tensorflow:From /usr/local/lib/python3.6/dist-packages/tensorflow_core/python/ops/init_ops.py:97: calling Zeros.__init__ (from tensorflow.python.ops.init_ops) with dtype is deprecated and will be removed in a future version.\n",
            "Instructions for updating:\n",
            "Call initializer instance with the dtype argument instead of passing it to the constructor\n",
            "Model: \"sequential\"\n",
            "_________________________________________________________________\n",
            "Layer (type)                 Output Shape              Param #   \n",
            "=================================================================\n",
            "embedding (Embedding)        (None, 10, 100)           321100    \n",
            "_________________________________________________________________\n",
            "bidirectional (Bidirectional (None, 10, 300)           301200    \n",
            "_________________________________________________________________\n",
            "dropout (Dropout)            (None, 10, 300)           0         \n",
            "_________________________________________________________________\n",
            "lstm_1 (LSTM)                (None, 100)               160400    \n",
            "_________________________________________________________________\n",
            "dense (Dense)                (None, 1605)              162105    \n",
            "_________________________________________________________________\n",
            "dense_1 (Dense)              (None, 3211)              5156866   \n",
            "=================================================================\n",
            "Total params: 6,101,671\n",
            "Trainable params: 6,101,671\n",
            "Non-trainable params: 0\n",
            "_________________________________________________________________\n",
            "None\n"
          ],
          "name": "stdout"
        }
      ]
    },
    {
      "cell_type": "code",
      "metadata": {
        "id": "AIg2f1HBxqof",
        "colab_type": "code",
        "colab": {
          "base_uri": "https://localhost:8080/",
          "height": 1000
        },
        "outputId": "3e9851b4-74e4-4f55-928e-7736209901d3"
      },
      "source": [
        " history = model.fit(predictors, label, epochs=100, verbose=1)"
      ],
      "execution_count": 4,
      "outputs": [
        {
          "output_type": "stream",
          "text": [
            "WARNING:tensorflow:From /usr/local/lib/python3.6/dist-packages/tensorflow_core/python/ops/math_grad.py:1424: where (from tensorflow.python.ops.array_ops) is deprecated and will be removed in a future version.\n",
            "Instructions for updating:\n",
            "Use tf.where in 2.0, which has the same broadcast rule as np.where\n",
            "Train on 15462 samples\n",
            "Epoch 1/100\n",
            "15462/15462 [==============================] - 32s 2ms/sample - loss: 6.9004 - acc: 0.0219\n",
            "Epoch 2/100\n",
            "15462/15462 [==============================] - 29s 2ms/sample - loss: 6.4953 - acc: 0.0235\n",
            "Epoch 3/100\n",
            "15462/15462 [==============================] - 29s 2ms/sample - loss: 6.3922 - acc: 0.0257\n",
            "Epoch 4/100\n",
            "15462/15462 [==============================] - 30s 2ms/sample - loss: 6.2683 - acc: 0.0294\n",
            "Epoch 5/100\n",
            "15462/15462 [==============================] - 29s 2ms/sample - loss: 6.1714 - acc: 0.0370\n",
            "Epoch 6/100\n",
            "15462/15462 [==============================] - 29s 2ms/sample - loss: 6.0872 - acc: 0.0394\n",
            "Epoch 7/100\n",
            "15462/15462 [==============================] - 30s 2ms/sample - loss: 5.9989 - acc: 0.0423\n",
            "Epoch 8/100\n",
            "15462/15462 [==============================] - 29s 2ms/sample - loss: 5.9031 - acc: 0.0446\n",
            "Epoch 9/100\n",
            "15462/15462 [==============================] - 29s 2ms/sample - loss: 5.7974 - acc: 0.0507\n",
            "Epoch 10/100\n",
            "15462/15462 [==============================] - 30s 2ms/sample - loss: 5.6854 - acc: 0.0582\n",
            "Epoch 11/100\n",
            "15462/15462 [==============================] - 29s 2ms/sample - loss: 5.5676 - acc: 0.0659\n",
            "Epoch 12/100\n",
            "15462/15462 [==============================] - 30s 2ms/sample - loss: 5.4503 - acc: 0.0711\n",
            "Epoch 13/100\n",
            "15462/15462 [==============================] - 29s 2ms/sample - loss: 5.3391 - acc: 0.0779\n",
            "Epoch 14/100\n",
            "15462/15462 [==============================] - 29s 2ms/sample - loss: 5.2344 - acc: 0.0854\n",
            "Epoch 15/100\n",
            "15462/15462 [==============================] - 30s 2ms/sample - loss: 5.1202 - acc: 0.0896\n",
            "Epoch 16/100\n",
            "15462/15462 [==============================] - 29s 2ms/sample - loss: 5.0093 - acc: 0.0999\n",
            "Epoch 17/100\n",
            "15462/15462 [==============================] - 30s 2ms/sample - loss: 4.9001 - acc: 0.1063\n",
            "Epoch 18/100\n",
            "15462/15462 [==============================] - 30s 2ms/sample - loss: 4.7897 - acc: 0.1148\n",
            "Epoch 19/100\n",
            "15462/15462 [==============================] - 30s 2ms/sample - loss: 4.6838 - acc: 0.1232\n",
            "Epoch 20/100\n",
            "15462/15462 [==============================] - 30s 2ms/sample - loss: 4.5658 - acc: 0.1333\n",
            "Epoch 21/100\n",
            "15462/15462 [==============================] - 29s 2ms/sample - loss: 4.4569 - acc: 0.1433\n",
            "Epoch 22/100\n",
            "15462/15462 [==============================] - 30s 2ms/sample - loss: 4.3538 - acc: 0.1539\n",
            "Epoch 23/100\n",
            "15462/15462 [==============================] - 29s 2ms/sample - loss: 4.2391 - acc: 0.1719\n",
            "Epoch 24/100\n",
            "15462/15462 [==============================] - 29s 2ms/sample - loss: 4.1244 - acc: 0.1859\n",
            "Epoch 25/100\n",
            "15462/15462 [==============================] - 29s 2ms/sample - loss: 4.0259 - acc: 0.1993\n",
            "Epoch 26/100\n",
            "15462/15462 [==============================] - 29s 2ms/sample - loss: 3.9150 - acc: 0.2163\n",
            "Epoch 27/100\n",
            "15462/15462 [==============================] - 29s 2ms/sample - loss: 3.8121 - acc: 0.2333\n",
            "Epoch 28/100\n",
            "15462/15462 [==============================] - 29s 2ms/sample - loss: 3.7119 - acc: 0.2510\n",
            "Epoch 29/100\n",
            "15462/15462 [==============================] - 29s 2ms/sample - loss: 3.6111 - acc: 0.2817\n",
            "Epoch 30/100\n",
            "15462/15462 [==============================] - 29s 2ms/sample - loss: 3.5110 - acc: 0.2954\n",
            "Epoch 31/100\n",
            "15462/15462 [==============================] - 29s 2ms/sample - loss: 3.4337 - acc: 0.3124\n",
            "Epoch 32/100\n",
            "15462/15462 [==============================] - 29s 2ms/sample - loss: 3.3286 - acc: 0.3365\n",
            "Epoch 33/100\n",
            "15462/15462 [==============================] - 30s 2ms/sample - loss: 3.2444 - acc: 0.3545\n",
            "Epoch 34/100\n",
            "15462/15462 [==============================] - 30s 2ms/sample - loss: 3.1665 - acc: 0.3767\n",
            "Epoch 35/100\n",
            "15462/15462 [==============================] - 29s 2ms/sample - loss: 3.0926 - acc: 0.3882\n",
            "Epoch 36/100\n",
            "15462/15462 [==============================] - 29s 2ms/sample - loss: 3.0214 - acc: 0.4064\n",
            "Epoch 37/100\n",
            "15462/15462 [==============================] - 29s 2ms/sample - loss: 2.9453 - acc: 0.4213\n",
            "Epoch 38/100\n",
            "15462/15462 [==============================] - 29s 2ms/sample - loss: 2.8538 - acc: 0.4484\n",
            "Epoch 39/100\n",
            "15462/15462 [==============================] - 29s 2ms/sample - loss: 2.8016 - acc: 0.4593\n",
            "Epoch 40/100\n",
            "15462/15462 [==============================] - 29s 2ms/sample - loss: 2.7390 - acc: 0.4706\n",
            "Epoch 41/100\n",
            "15462/15462 [==============================] - 30s 2ms/sample - loss: 2.6633 - acc: 0.4919\n",
            "Epoch 42/100\n",
            "15462/15462 [==============================] - 30s 2ms/sample - loss: 2.6100 - acc: 0.4986\n",
            "Epoch 43/100\n",
            "15462/15462 [==============================] - 30s 2ms/sample - loss: 2.5391 - acc: 0.5161\n",
            "Epoch 44/100\n",
            "15462/15462 [==============================] - 30s 2ms/sample - loss: 2.4926 - acc: 0.5263\n",
            "Epoch 45/100\n",
            "15462/15462 [==============================] - 30s 2ms/sample - loss: 2.4370 - acc: 0.5420\n",
            "Epoch 46/100\n",
            "15462/15462 [==============================] - 29s 2ms/sample - loss: 2.3862 - acc: 0.5488\n",
            "Epoch 47/100\n",
            "15462/15462 [==============================] - 29s 2ms/sample - loss: 2.3343 - acc: 0.5659\n",
            "Epoch 48/100\n",
            "15462/15462 [==============================] - 29s 2ms/sample - loss: 2.2848 - acc: 0.5756\n",
            "Epoch 49/100\n",
            "15462/15462 [==============================] - 30s 2ms/sample - loss: 2.2430 - acc: 0.5841\n",
            "Epoch 50/100\n",
            "15462/15462 [==============================] - 29s 2ms/sample - loss: 2.1899 - acc: 0.5933\n",
            "Epoch 51/100\n",
            "15462/15462 [==============================] - 30s 2ms/sample - loss: 2.1418 - acc: 0.6053\n",
            "Epoch 52/100\n",
            "15462/15462 [==============================] - 29s 2ms/sample - loss: 2.1081 - acc: 0.6148\n",
            "Epoch 53/100\n",
            "15462/15462 [==============================] - 30s 2ms/sample - loss: 2.0640 - acc: 0.6235\n",
            "Epoch 54/100\n",
            "15462/15462 [==============================] - 30s 2ms/sample - loss: 2.0401 - acc: 0.6309\n",
            "Epoch 55/100\n",
            "15462/15462 [==============================] - 29s 2ms/sample - loss: 1.9894 - acc: 0.6378\n",
            "Epoch 56/100\n",
            "15462/15462 [==============================] - 29s 2ms/sample - loss: 1.9488 - acc: 0.6534\n",
            "Epoch 57/100\n",
            "15462/15462 [==============================] - 29s 2ms/sample - loss: 1.9154 - acc: 0.6589\n",
            "Epoch 58/100\n",
            "15462/15462 [==============================] - 29s 2ms/sample - loss: 1.8833 - acc: 0.6632\n",
            "Epoch 59/100\n",
            "15462/15462 [==============================] - 29s 2ms/sample - loss: 1.8402 - acc: 0.6742\n",
            "Epoch 60/100\n",
            "15462/15462 [==============================] - 30s 2ms/sample - loss: 1.8136 - acc: 0.6791\n",
            "Epoch 61/100\n",
            "15462/15462 [==============================] - 30s 2ms/sample - loss: 1.7826 - acc: 0.6865\n",
            "Epoch 62/100\n",
            "15462/15462 [==============================] - 30s 2ms/sample - loss: 1.7538 - acc: 0.6938\n",
            "Epoch 63/100\n",
            "15462/15462 [==============================] - 30s 2ms/sample - loss: 1.7219 - acc: 0.6996\n",
            "Epoch 64/100\n",
            "15462/15462 [==============================] - 30s 2ms/sample - loss: 1.6978 - acc: 0.7037\n",
            "Epoch 65/100\n",
            "15462/15462 [==============================] - 30s 2ms/sample - loss: 1.6650 - acc: 0.7089\n",
            "Epoch 66/100\n",
            "15462/15462 [==============================] - 30s 2ms/sample - loss: 1.6432 - acc: 0.7131\n",
            "Epoch 67/100\n",
            "15462/15462 [==============================] - 30s 2ms/sample - loss: 1.6175 - acc: 0.7185\n",
            "Epoch 68/100\n",
            "15462/15462 [==============================] - 30s 2ms/sample - loss: 1.5899 - acc: 0.7244\n",
            "Epoch 69/100\n",
            "15462/15462 [==============================] - 30s 2ms/sample - loss: 1.5669 - acc: 0.7299\n",
            "Epoch 70/100\n",
            "15462/15462 [==============================] - 30s 2ms/sample - loss: 1.5408 - acc: 0.7384\n",
            "Epoch 71/100\n",
            "15462/15462 [==============================] - 30s 2ms/sample - loss: 1.5311 - acc: 0.7348\n",
            "Epoch 72/100\n",
            "15462/15462 [==============================] - 29s 2ms/sample - loss: 1.5194 - acc: 0.7372\n",
            "Epoch 73/100\n",
            "15462/15462 [==============================] - 29s 2ms/sample - loss: 1.4885 - acc: 0.7447\n",
            "Epoch 74/100\n",
            "15462/15462 [==============================] - 29s 2ms/sample - loss: 1.4651 - acc: 0.7476\n",
            "Epoch 75/100\n",
            "15462/15462 [==============================] - 29s 2ms/sample - loss: 1.4463 - acc: 0.7522\n",
            "Epoch 76/100\n",
            "15462/15462 [==============================] - 29s 2ms/sample - loss: 1.4457 - acc: 0.7474\n",
            "Epoch 77/100\n",
            "15462/15462 [==============================] - 29s 2ms/sample - loss: 1.4136 - acc: 0.7576\n",
            "Epoch 78/100\n",
            "15462/15462 [==============================] - 29s 2ms/sample - loss: 1.3859 - acc: 0.7670\n",
            "Epoch 79/100\n",
            "15462/15462 [==============================] - 29s 2ms/sample - loss: 1.3801 - acc: 0.7634\n",
            "Epoch 80/100\n",
            "15462/15462 [==============================] - 29s 2ms/sample - loss: 1.3569 - acc: 0.7683\n",
            "Epoch 81/100\n",
            "15462/15462 [==============================] - 29s 2ms/sample - loss: 1.3527 - acc: 0.7680\n",
            "Epoch 82/100\n",
            "15462/15462 [==============================] - 29s 2ms/sample - loss: 1.3317 - acc: 0.7717\n",
            "Epoch 83/100\n",
            "15462/15462 [==============================] - 29s 2ms/sample - loss: 1.3215 - acc: 0.7745\n",
            "Epoch 84/100\n",
            "15462/15462 [==============================] - 29s 2ms/sample - loss: 1.3026 - acc: 0.7754\n",
            "Epoch 85/100\n",
            "15462/15462 [==============================] - 29s 2ms/sample - loss: 1.2984 - acc: 0.7764\n",
            "Epoch 86/100\n",
            "15462/15462 [==============================] - 29s 2ms/sample - loss: 1.2842 - acc: 0.7816\n",
            "Epoch 87/100\n",
            "15462/15462 [==============================] - 29s 2ms/sample - loss: 1.2558 - acc: 0.7861\n",
            "Epoch 88/100\n",
            "15462/15462 [==============================] - 29s 2ms/sample - loss: 1.2528 - acc: 0.7828\n",
            "Epoch 89/100\n",
            "15462/15462 [==============================] - 29s 2ms/sample - loss: 1.2337 - acc: 0.7892\n",
            "Epoch 90/100\n",
            "15462/15462 [==============================] - 29s 2ms/sample - loss: 1.2218 - acc: 0.7935\n",
            "Epoch 91/100\n",
            "15462/15462 [==============================] - 29s 2ms/sample - loss: 1.2149 - acc: 0.7912\n",
            "Epoch 92/100\n",
            "15462/15462 [==============================] - 29s 2ms/sample - loss: 1.2116 - acc: 0.7929\n",
            "Epoch 93/100\n",
            "15462/15462 [==============================] - 29s 2ms/sample - loss: 1.1909 - acc: 0.7957\n",
            "Epoch 94/100\n",
            "15462/15462 [==============================] - 30s 2ms/sample - loss: 1.1778 - acc: 0.7969\n",
            "Epoch 95/100\n",
            "15462/15462 [==============================] - 30s 2ms/sample - loss: 1.1725 - acc: 0.7965\n",
            "Epoch 96/100\n",
            "15462/15462 [==============================] - 29s 2ms/sample - loss: 1.1758 - acc: 0.7963\n",
            "Epoch 97/100\n",
            "15462/15462 [==============================] - 30s 2ms/sample - loss: 1.1558 - acc: 0.8002\n",
            "Epoch 98/100\n",
            "15462/15462 [==============================] - 30s 2ms/sample - loss: 1.1470 - acc: 0.8014\n",
            "Epoch 99/100\n",
            "15462/15462 [==============================] - 30s 2ms/sample - loss: 1.1388 - acc: 0.8024\n",
            "Epoch 100/100\n",
            "15462/15462 [==============================] - 29s 2ms/sample - loss: 1.1148 - acc: 0.8077\n"
          ],
          "name": "stdout"
        }
      ]
    },
    {
      "cell_type": "code",
      "metadata": {
        "id": "1fXTEO3GJ282",
        "colab_type": "code",
        "colab": {
          "base_uri": "https://localhost:8080/",
          "height": 545
        },
        "outputId": "6cd80d36-e1fb-4d02-8212-0440a4c5c68b"
      },
      "source": [
        "import matplotlib.pyplot as plt\n",
        "acc = history.history['acc']\n",
        "loss = history.history['loss']\n",
        "\n",
        "epochs = range(len(acc))\n",
        "\n",
        "plt.plot(epochs, acc, 'b', label='Training accuracy')\n",
        "plt.title('Training accuracy')\n",
        "\n",
        "plt.figure()\n",
        "\n",
        "plt.plot(epochs, loss, 'b', label='Training Loss')\n",
        "plt.title('Training loss')\n",
        "plt.legend()\n",
        "\n",
        "plt.show()"
      ],
      "execution_count": 5,
      "outputs": [
        {
          "output_type": "display_data",
          "data": {
            "image/png": "[encoded data removed]",
            "text/plain": [
              "<Figure size 432x288 with 1 Axes>"
            ]
          },
          "metadata": {
            "tags": []
          }
        },
        {
          "output_type": "display_data",
          "data": {
            "image/png": "[encoded data removed]",
            "text/plain": [
              "<Figure size 432x288 with 1 Axes>"
            ]
          },
          "metadata": {
            "tags": []
          }
        }
      ]
    },
    {
      "cell_type": "code",
      "metadata": {
        "id": "6Vc6PHgxa6Hm",
        "colab_type": "code",
        "colab": {
          "base_uri": "https://localhost:8080/",
          "height": 54
        },
        "outputId": "42f46295-dcd0-4a05-f1cc-eac80c8215e9"
      },
      "source": [
        "seed_text = \"Help me Obi Wan Kenobi, you're my only hope\"\n",
        "next_words = 100\n",
        "  \n",
        "for _ in range(next_words):\n",
        "\ttoken_list = tokenizer.texts_to_sequences([seed_text])[0]\n",
        "\ttoken_list = pad_sequences([token_list], maxlen=max_sequence_len-1, padding='pre')\n",
        "\tpredicted = model.predict_classes(token_list, verbose=0)\n",
        "\toutput_word = \"\"\n",
        "\tfor word, index in tokenizer.word_index.items():\n",
        "\t\tif index == predicted:\n",
        "\t\t\toutput_word = word\n",
        "\t\t\tbreak\n",
        "\tseed_text += \" \" + output_word\n",
        "print(seed_text)"
      ],
      "execution_count": 6,
      "outputs": [
        {
          "output_type": "stream",
          "text": [
            "Help me Obi Wan Kenobi, you're my only hope grown on this grow of pleasure me hence slain respect gone forth thine days keep black lies skill 'will ' untrue still be bold free lend me so shown skill bright bright friend deeds to go forth so ill new ' still with thee untrue shows dwell that rare respect threw free gone thine days grow so hell to catch thine compare me so ill new part doth hell thine strong grow forth me now despise thought bad bright now keep now relief last so better prove thee night alone eyes now keep her place of thee i see lie\n"
          ],
          "name": "stdout"
        }
      ]
    },
    {
      "cell_type": "code",
      "metadata": {
        "id": "ZnyPNdz7iPTY",
        "colab_type": "code",
        "colab": {}
      },
      "source": [
        ""
      ],
      "execution_count": 0,
      "outputs": []
    }
  ]
}