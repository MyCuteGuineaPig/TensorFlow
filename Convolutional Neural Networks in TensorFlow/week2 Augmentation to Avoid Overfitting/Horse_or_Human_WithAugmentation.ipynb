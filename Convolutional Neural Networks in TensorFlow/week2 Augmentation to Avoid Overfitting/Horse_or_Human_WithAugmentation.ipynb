{
  "nbformat": 4,
  "nbformat_minor": 0,
  "metadata": {
    "colab": {
      "name": "Copy of Horse-or-Human-WithAugmentation.ipynb",
      "provenance": [],
      "collapsed_sections": [],
      "toc_visible": true
    },
    "kernelspec": {
      "name": "python3",
      "display_name": "Python 3"
    },
    "accelerator": "GPU"
  },
  "cells": [
    {
      "cell_type": "code",
      "metadata": {
        "colab_type": "code",
        "id": "RXZT2UsyIVe_",
        "colab": {
          "base_uri": "https://localhost:8080/",
          "height": 411
        },
        "outputId": "d8202c79-9856-45b7-f98e-846186d55fd7"
      },
      "source": [
        "!wget --no-check-certificate \\\n",
        "    https://storage.googleapis.com/laurencemoroney-blog.appspot.com/horse-or-human.zip \\\n",
        "    -O /tmp/horse-or-human.zip\n",
        "\n",
        "!wget --no-check-certificate \\\n",
        "    https://storage.googleapis.com/laurencemoroney-blog.appspot.com/validation-horse-or-human.zip \\\n",
        "    -O /tmp/validation-horse-or-human.zip\n",
        "  \n",
        "import os\n",
        "import zipfile\n",
        "\n",
        "local_zip = '/tmp/horse-or-human.zip'\n",
        "zip_ref = zipfile.ZipFile(local_zip, 'r')\n",
        "zip_ref.extractall('/tmp/horse-or-human')\n",
        "local_zip = '/tmp/validation-horse-or-human.zip'\n",
        "zip_ref = zipfile.ZipFile(local_zip, 'r')\n",
        "zip_ref.extractall('/tmp/validation-horse-or-human')\n",
        "zip_ref.close()\n",
        "# Directory with our training horse pictures\n",
        "train_horse_dir = os.path.join('/tmp/horse-or-human/horses')\n",
        "\n",
        "# Directory with our training human pictures\n",
        "train_human_dir = os.path.join('/tmp/horse-or-human/humans')\n",
        "\n",
        "# Directory with our training horse pictures\n",
        "validation_horse_dir = os.path.join('/tmp/validation-horse-or-human/horses')\n",
        "\n",
        "# Directory with our training human pictures\n",
        "validation_human_dir = os.path.join('/tmp/validation-horse-or-human/humans')"
      ],
      "execution_count": 1,
      "outputs": [
        {
          "output_type": "stream",
          "text": [
            "--2019-10-04 17:47:07--  https://storage.googleapis.com/laurencemoroney-blog.appspot.com/horse-or-human.zip\n",
            "Resolving storage.googleapis.com (storage.googleapis.com)... 108.177.112.128, 2607:f8b0:4001:c02::80\n",
            "Connecting to storage.googleapis.com (storage.googleapis.com)|108.177.112.128|:443... connected.\n",
            "HTTP request sent, awaiting response... 200 OK\n",
            "Length: 149574867 (143M) [application/zip]\n",
            "Saving to: ‘/tmp/horse-or-human.zip’\n",
            "\n",
            "/tmp/horse-or-human 100%[===================>] 142.65M   177MB/s    in 0.8s    \n",
            "\n",
            "2019-10-04 17:47:08 (177 MB/s) - ‘/tmp/horse-or-human.zip’ saved [149574867/149574867]\n",
            "\n",
            "--2019-10-04 17:47:09--  https://storage.googleapis.com/laurencemoroney-blog.appspot.com/validation-horse-or-human.zip\n",
            "Resolving storage.googleapis.com (storage.googleapis.com)... 172.217.212.128, 2607:f8b0:4001:c09::80\n",
            "Connecting to storage.googleapis.com (storage.googleapis.com)|172.217.212.128|:443... connected.\n",
            "HTTP request sent, awaiting response... 200 OK\n",
            "Length: 11480187 (11M) [application/zip]\n",
            "Saving to: ‘/tmp/validation-horse-or-human.zip’\n",
            "\n",
            "/tmp/validation-hor 100%[===================>]  10.95M  50.7MB/s    in 0.2s    \n",
            "\n",
            "2019-10-04 17:47:09 (50.7 MB/s) - ‘/tmp/validation-horse-or-human.zip’ saved [11480187/11480187]\n",
            "\n"
          ],
          "name": "stdout"
        }
      ]
    },
    {
      "cell_type": "markdown",
      "metadata": {
        "colab_type": "text",
        "id": "5oqBkNBJmtUv"
      },
      "source": [
        "## Building a Small Model from Scratch\n",
        "\n",
        "But before we continue, let's start defining the model:\n",
        "\n",
        "Step 1 will be to import tensorflow."
      ]
    },
    {
      "cell_type": "code",
      "metadata": {
        "id": "qvfZg3LQbD-5",
        "colab_type": "code",
        "colab": {}
      },
      "source": [
        "import tensorflow as tf"
      ],
      "execution_count": 0,
      "outputs": []
    },
    {
      "cell_type": "markdown",
      "metadata": {
        "colab_type": "text",
        "id": "BnhYCP4tdqjC"
      },
      "source": [
        "We then add convolutional layers as in the previous example, and flatten the final result to feed into the densely connected layers."
      ]
    },
    {
      "cell_type": "markdown",
      "metadata": {
        "id": "gokG5HKpdtzm",
        "colab_type": "text"
      },
      "source": [
        "Finally we add the densely connected layers. \n",
        "\n",
        "Note that because we are facing a two-class classification problem, i.e. a *binary classification problem*, we will end our network with a [*sigmoid* activation](https://wikipedia.org/wiki/Sigmoid_function), so that the output of our network will be a single scalar between 0 and 1, encoding the probability that the current image is class 1 (as opposed to class 0)."
      ]
    },
    {
      "cell_type": "code",
      "metadata": {
        "id": "PixZ2s5QbYQ3",
        "colab_type": "code",
        "colab": {
          "base_uri": "https://localhost:8080/",
          "height": 88
        },
        "outputId": "401b7e7e-941c-4d77-f84f-042498f07420"
      },
      "source": [
        "model = tf.keras.models.Sequential([\n",
        "    # Note the input shape is the desired size of the image 300x300 with 3 bytes color\n",
        "    # This is the first convolution\n",
        "    tf.keras.layers.Conv2D(16, (3,3), activation='relu', input_shape=(300, 300, 3)),\n",
        "    tf.keras.layers.MaxPooling2D(2, 2),\n",
        "    # The second convolution\n",
        "    tf.keras.layers.Conv2D(32, (3,3), activation='relu'),\n",
        "    tf.keras.layers.MaxPooling2D(2,2),\n",
        "    # The third convolution\n",
        "    tf.keras.layers.Conv2D(64, (3,3), activation='relu'),\n",
        "    tf.keras.layers.MaxPooling2D(2,2),\n",
        "    # The fourth convolution\n",
        "    tf.keras.layers.Conv2D(64, (3,3), activation='relu'),\n",
        "    tf.keras.layers.MaxPooling2D(2,2),\n",
        "    # The fifth convolution\n",
        "    tf.keras.layers.Conv2D(64, (3,3), activation='relu'),\n",
        "    tf.keras.layers.MaxPooling2D(2,2),\n",
        "    # Flatten the results to feed into a DNN\n",
        "    tf.keras.layers.Flatten(),\n",
        "    # 512 neuron hidden layer\n",
        "    tf.keras.layers.Dense(512, activation='relu'),\n",
        "    # Only 1 output neuron. It will contain a value from 0-1 where 0 for 1 class ('horses') and 1 for the other ('humans')\n",
        "    tf.keras.layers.Dense(1, activation='sigmoid')\n",
        "])"
      ],
      "execution_count": 3,
      "outputs": [
        {
          "output_type": "stream",
          "text": [
            "WARNING:tensorflow:From /usr/local/lib/python3.6/dist-packages/tensorflow/python/ops/init_ops.py:1251: calling VarianceScaling.__init__ (from tensorflow.python.ops.init_ops) with dtype is deprecated and will be removed in a future version.\n",
            "Instructions for updating:\n",
            "Call initializer instance with the dtype argument instead of passing it to the constructor\n"
          ],
          "name": "stdout"
        }
      ]
    },
    {
      "cell_type": "code",
      "metadata": {
        "colab_type": "code",
        "id": "8DHWhFP_uhq3",
        "colab": {
          "base_uri": "https://localhost:8080/",
          "height": 88
        },
        "outputId": "10e49dad-be2d-42ef-e7ae-e71788396ded"
      },
      "source": [
        "from tensorflow.keras.optimizers import RMSprop\n",
        "\n",
        "model.compile(loss='binary_crossentropy',\n",
        "              optimizer=RMSprop(lr=1e-4),\n",
        "              metrics=['acc'])"
      ],
      "execution_count": 4,
      "outputs": [
        {
          "output_type": "stream",
          "text": [
            "WARNING:tensorflow:From /usr/local/lib/python3.6/dist-packages/tensorflow/python/ops/nn_impl.py:180: add_dispatch_support.<locals>.wrapper (from tensorflow.python.ops.array_ops) is deprecated and will be removed in a future version.\n",
            "Instructions for updating:\n",
            "Use tf.where in 2.0, which has the same broadcast rule as np.where\n"
          ],
          "name": "stdout"
        }
      ]
    },
    {
      "cell_type": "code",
      "metadata": {
        "colab_type": "code",
        "id": "ClebU9NJg99G",
        "colab": {
          "base_uri": "https://localhost:8080/",
          "height": 51
        },
        "outputId": "8557f72d-0f00-4779-c8b0-4ee4aeadf9e2"
      },
      "source": [
        "from tensorflow.keras.preprocessing.image import ImageDataGenerator\n",
        "\n",
        "# All images will be rescaled by 1./255\n",
        "train_datagen = ImageDataGenerator(\n",
        "      rescale=1./255,\n",
        "      rotation_range=40,\n",
        "      width_shift_range=0.2,\n",
        "      height_shift_range=0.2,\n",
        "      shear_range=0.2,\n",
        "      zoom_range=0.2,\n",
        "      horizontal_flip=True,\n",
        "      fill_mode='nearest')\n",
        "\n",
        "validation_datagen = ImageDataGenerator(rescale=1/255)\n",
        "\n",
        "# Flow training images in batches of 128 using train_datagen generator\n",
        "train_generator = train_datagen.flow_from_directory(\n",
        "        '/tmp/horse-or-human/',  # This is the source directory for training images\n",
        "        target_size=(300, 300),  # All images will be resized to 150x150\n",
        "        batch_size=128,\n",
        "        # Since we use binary_crossentropy loss, we need binary labels\n",
        "        class_mode='binary')\n",
        "\n",
        "# Flow training images in batches of 128 using train_datagen generator\n",
        "validation_generator = validation_datagen.flow_from_directory(\n",
        "        '/tmp/validation-horse-or-human/',  # This is the source directory for training images\n",
        "        target_size=(300, 300),  # All images will be resized to 150x150\n",
        "        batch_size=32,\n",
        "        # Since we use binary_crossentropy loss, we need binary labels\n",
        "        class_mode='binary')"
      ],
      "execution_count": 5,
      "outputs": [
        {
          "output_type": "stream",
          "text": [
            "Found 1027 images belonging to 2 classes.\n",
            "Found 256 images belonging to 2 classes.\n"
          ],
          "name": "stdout"
        }
      ]
    },
    {
      "cell_type": "code",
      "metadata": {
        "colab_type": "code",
        "id": "Fb1_lgobv81m",
        "colab": {
          "base_uri": "https://localhost:8080/",
          "height": 1000
        },
        "outputId": "552ec10c-79ea-43c4-feea-251ea5136b40"
      },
      "source": [
        "history = model.fit_generator(\n",
        "      train_generator,\n",
        "      steps_per_epoch=8,  \n",
        "      epochs=100,\n",
        "      verbose=1,\n",
        "      validation_data = validation_generator,\n",
        "      validation_steps=8)"
      ],
      "execution_count": 6,
      "outputs": [
        {
          "output_type": "stream",
          "text": [
            "Epoch 1/100\n",
            "8/8 [==============================] - 25s 3s/step - loss: 0.6867 - acc: 0.5528 - val_loss: 0.7544 - val_acc: 0.5000\n",
            "Epoch 2/100\n",
            "8/8 [==============================] - 25s 3s/step - loss: 0.6726 - acc: 0.5473 - val_loss: 0.6366 - val_acc: 0.7617\n",
            "Epoch 3/100\n",
            "8/8 [==============================] - 28s 3s/step - loss: 0.6440 - acc: 0.6602 - val_loss: 0.6113 - val_acc: 0.6914\n",
            "Epoch 4/100\n",
            "8/8 [==============================] - 21s 3s/step - loss: 0.6629 - acc: 0.6486 - val_loss: 0.6121 - val_acc: 0.6094\n",
            "Epoch 5/100\n",
            "8/8 [==============================] - 28s 3s/step - loss: 0.6057 - acc: 0.7139 - val_loss: 0.6218 - val_acc: 0.5742\n",
            "Epoch 6/100\n",
            "8/8 [==============================] - 21s 3s/step - loss: 0.6142 - acc: 0.6873 - val_loss: 0.6510 - val_acc: 0.5352\n",
            "Epoch 7/100\n",
            "8/8 [==============================] - 28s 3s/step - loss: 0.5767 - acc: 0.7246 - val_loss: 0.6240 - val_acc: 0.5859\n",
            "Epoch 8/100\n",
            "8/8 [==============================] - 24s 3s/step - loss: 0.5691 - acc: 0.7141 - val_loss: 0.6864 - val_acc: 0.5469\n",
            "Epoch 9/100\n",
            "8/8 [==============================] - 23s 3s/step - loss: 0.5353 - acc: 0.7430 - val_loss: 0.6743 - val_acc: 0.5508\n",
            "Epoch 10/100\n",
            "8/8 [==============================] - 23s 3s/step - loss: 0.4978 - acc: 0.7542 - val_loss: 0.6902 - val_acc: 0.5625\n",
            "Epoch 11/100\n",
            "8/8 [==============================] - 23s 3s/step - loss: 0.4853 - acc: 0.7831 - val_loss: 0.8266 - val_acc: 0.5352\n",
            "Epoch 12/100\n",
            "8/8 [==============================] - 26s 3s/step - loss: 0.5094 - acc: 0.7500 - val_loss: 0.8827 - val_acc: 0.5352\n",
            "Epoch 13/100\n",
            "8/8 [==============================] - 20s 3s/step - loss: 0.5423 - acc: 0.7442 - val_loss: 0.4023 - val_acc: 0.8281\n",
            "Epoch 14/100\n",
            "8/8 [==============================] - 23s 3s/step - loss: 0.5308 - acc: 0.7564 - val_loss: 0.6892 - val_acc: 0.5977\n",
            "Epoch 15/100\n",
            "8/8 [==============================] - 23s 3s/step - loss: 0.4540 - acc: 0.7920 - val_loss: 0.5935 - val_acc: 0.6875\n",
            "Epoch 16/100\n",
            "8/8 [==============================] - 26s 3s/step - loss: 0.4585 - acc: 0.7920 - val_loss: 0.8065 - val_acc: 0.5977\n",
            "Epoch 17/100\n",
            "8/8 [==============================] - 23s 3s/step - loss: 0.5749 - acc: 0.7720 - val_loss: 0.6507 - val_acc: 0.6680\n",
            "Epoch 18/100\n",
            "8/8 [==============================] - 23s 3s/step - loss: 0.4586 - acc: 0.7675 - val_loss: 0.8875 - val_acc: 0.5898\n",
            "Epoch 19/100\n",
            "8/8 [==============================] - 23s 3s/step - loss: 0.4374 - acc: 0.8131 - val_loss: 0.3806 - val_acc: 0.8086\n",
            "Epoch 20/100\n",
            "8/8 [==============================] - 28s 3s/step - loss: 0.5638 - acc: 0.7529 - val_loss: 1.1335 - val_acc: 0.5664\n",
            "Epoch 21/100\n",
            "8/8 [==============================] - 21s 3s/step - loss: 0.3904 - acc: 0.8178 - val_loss: 0.7374 - val_acc: 0.6641\n",
            "Epoch 22/100\n",
            "8/8 [==============================] - 24s 3s/step - loss: 0.4273 - acc: 0.7775 - val_loss: 0.2736 - val_acc: 0.8945\n",
            "Epoch 23/100\n",
            "8/8 [==============================] - 27s 3s/step - loss: 0.4463 - acc: 0.7949 - val_loss: 1.2233 - val_acc: 0.5703\n",
            "Epoch 24/100\n",
            "8/8 [==============================] - 24s 3s/step - loss: 0.4051 - acc: 0.7920 - val_loss: 0.8160 - val_acc: 0.6523\n",
            "Epoch 25/100\n",
            "8/8 [==============================] - 24s 3s/step - loss: 0.4122 - acc: 0.8165 - val_loss: 1.1395 - val_acc: 0.6055\n",
            "Epoch 26/100\n",
            "8/8 [==============================] - 24s 3s/step - loss: 0.4784 - acc: 0.7842 - val_loss: 1.7406 - val_acc: 0.5312\n",
            "Epoch 27/100\n",
            "8/8 [==============================] - 24s 3s/step - loss: 0.4444 - acc: 0.7864 - val_loss: 1.3098 - val_acc: 0.5742\n",
            "Epoch 28/100\n",
            "8/8 [==============================] - 24s 3s/step - loss: 0.3748 - acc: 0.8154 - val_loss: 1.1328 - val_acc: 0.6094\n",
            "Epoch 29/100\n",
            "8/8 [==============================] - 23s 3s/step - loss: 0.3333 - acc: 0.8409 - val_loss: 1.3017 - val_acc: 0.5938\n",
            "Epoch 30/100\n",
            "8/8 [==============================] - 27s 3s/step - loss: 0.4051 - acc: 0.8135 - val_loss: 1.2545 - val_acc: 0.5938\n",
            "Epoch 31/100\n",
            "8/8 [==============================] - 20s 2s/step - loss: 0.3515 - acc: 0.7894 - val_loss: 1.9018 - val_acc: 0.5430\n",
            "Epoch 32/100\n",
            "8/8 [==============================] - 26s 3s/step - loss: 0.3335 - acc: 0.8564 - val_loss: 1.3543 - val_acc: 0.6172\n",
            "Epoch 33/100\n",
            "8/8 [==============================] - 20s 2s/step - loss: 0.4215 - acc: 0.7920 - val_loss: 0.9297 - val_acc: 0.6289\n",
            "Epoch 34/100\n",
            "8/8 [==============================] - 26s 3s/step - loss: 0.3492 - acc: 0.8467 - val_loss: 1.5166 - val_acc: 0.5859\n",
            "Epoch 35/100\n",
            "8/8 [==============================] - 24s 3s/step - loss: 0.3467 - acc: 0.8420 - val_loss: 1.2052 - val_acc: 0.6133\n",
            "Epoch 36/100\n",
            "8/8 [==============================] - 23s 3s/step - loss: 0.3801 - acc: 0.8498 - val_loss: 1.0109 - val_acc: 0.6328\n",
            "Epoch 37/100\n",
            "8/8 [==============================] - 23s 3s/step - loss: 0.3332 - acc: 0.8554 - val_loss: 0.8421 - val_acc: 0.7344\n",
            "Epoch 38/100\n",
            "8/8 [==============================] - 26s 3s/step - loss: 0.3189 - acc: 0.8604 - val_loss: 2.1915 - val_acc: 0.5547\n",
            "Epoch 39/100\n",
            "8/8 [==============================] - 20s 2s/step - loss: 0.3303 - acc: 0.8295 - val_loss: 2.5808 - val_acc: 0.5195\n",
            "Epoch 40/100\n",
            "8/8 [==============================] - 23s 3s/step - loss: 0.3159 - acc: 0.8498 - val_loss: 1.6936 - val_acc: 0.5859\n",
            "Epoch 41/100\n",
            "8/8 [==============================] - 23s 3s/step - loss: 0.3474 - acc: 0.8743 - val_loss: 2.4262 - val_acc: 0.5312\n",
            "Epoch 42/100\n",
            "8/8 [==============================] - 23s 3s/step - loss: 0.2827 - acc: 0.8598 - val_loss: 2.5276 - val_acc: 0.5469\n",
            "Epoch 43/100\n",
            "8/8 [==============================] - 27s 3s/step - loss: 0.3115 - acc: 0.8691 - val_loss: 2.3608 - val_acc: 0.5547\n",
            "Epoch 44/100\n",
            "8/8 [==============================] - 24s 3s/step - loss: 0.3473 - acc: 0.8509 - val_loss: 1.5772 - val_acc: 0.6133\n",
            "Epoch 45/100\n",
            "8/8 [==============================] - 24s 3s/step - loss: 0.3571 - acc: 0.8509 - val_loss: 1.7334 - val_acc: 0.5859\n",
            "Epoch 46/100\n",
            "8/8 [==============================] - 24s 3s/step - loss: 0.3591 - acc: 0.8654 - val_loss: 1.4429 - val_acc: 0.6133\n",
            "Epoch 47/100\n",
            "8/8 [==============================] - 24s 3s/step - loss: 0.2750 - acc: 0.8865 - val_loss: 1.9396 - val_acc: 0.5859\n",
            "Epoch 48/100\n",
            "8/8 [==============================] - 24s 3s/step - loss: 0.2428 - acc: 0.8810 - val_loss: 1.5910 - val_acc: 0.6406\n",
            "Epoch 49/100\n",
            "8/8 [==============================] - 24s 3s/step - loss: 0.2802 - acc: 0.8810 - val_loss: 1.5317 - val_acc: 0.6328\n",
            "Epoch 50/100\n",
            "8/8 [==============================] - 24s 3s/step - loss: 0.4125 - acc: 0.8220 - val_loss: 1.7235 - val_acc: 0.5820\n",
            "Epoch 51/100\n",
            "8/8 [==============================] - 24s 3s/step - loss: 0.2390 - acc: 0.9021 - val_loss: 2.3158 - val_acc: 0.5625\n",
            "Epoch 52/100\n",
            "8/8 [==============================] - 27s 3s/step - loss: 0.2827 - acc: 0.8828 - val_loss: 1.7232 - val_acc: 0.6094\n",
            "Epoch 53/100\n",
            "8/8 [==============================] - 23s 3s/step - loss: 0.3966 - acc: 0.8610 - val_loss: 2.3079 - val_acc: 0.5586\n",
            "Epoch 54/100\n",
            "8/8 [==============================] - 23s 3s/step - loss: 0.2403 - acc: 0.8854 - val_loss: 2.1522 - val_acc: 0.5664\n",
            "Epoch 55/100\n",
            "8/8 [==============================] - 23s 3s/step - loss: 0.3215 - acc: 0.8899 - val_loss: 3.3522 - val_acc: 0.5156\n",
            "Epoch 56/100\n",
            "8/8 [==============================] - 23s 3s/step - loss: 0.3097 - acc: 0.8610 - val_loss: 2.3594 - val_acc: 0.5469\n",
            "Epoch 57/100\n",
            "8/8 [==============================] - 23s 3s/step - loss: 0.2794 - acc: 0.8932 - val_loss: 2.0316 - val_acc: 0.5742\n",
            "Epoch 58/100\n",
            "8/8 [==============================] - 23s 3s/step - loss: 0.2569 - acc: 0.9132 - val_loss: 3.4792 - val_acc: 0.5117\n",
            "Epoch 59/100\n",
            "8/8 [==============================] - 26s 3s/step - loss: 0.2824 - acc: 0.8848 - val_loss: 2.4013 - val_acc: 0.5625\n",
            "Epoch 60/100\n",
            "8/8 [==============================] - 23s 3s/step - loss: 0.2380 - acc: 0.8932 - val_loss: 2.0313 - val_acc: 0.5820\n",
            "Epoch 61/100\n",
            "8/8 [==============================] - 23s 3s/step - loss: 0.2737 - acc: 0.8888 - val_loss: 1.8506 - val_acc: 0.6016\n",
            "Epoch 62/100\n",
            "8/8 [==============================] - 23s 3s/step - loss: 0.2839 - acc: 0.8899 - val_loss: 2.0755 - val_acc: 0.5820\n",
            "Epoch 63/100\n",
            "8/8 [==============================] - 23s 3s/step - loss: 0.2773 - acc: 0.8810 - val_loss: 1.8326 - val_acc: 0.6016\n",
            "Epoch 64/100\n",
            "8/8 [==============================] - 23s 3s/step - loss: 0.2203 - acc: 0.9221 - val_loss: 1.8177 - val_acc: 0.6445\n",
            "Epoch 65/100\n",
            "8/8 [==============================] - 23s 3s/step - loss: 0.2240 - acc: 0.9121 - val_loss: 2.7496 - val_acc: 0.5430\n",
            "Epoch 66/100\n",
            "8/8 [==============================] - 23s 3s/step - loss: 0.2246 - acc: 0.8943 - val_loss: 2.7427 - val_acc: 0.5703\n",
            "Epoch 67/100\n",
            "8/8 [==============================] - 26s 3s/step - loss: 0.2646 - acc: 0.8789 - val_loss: 2.6933 - val_acc: 0.5703\n",
            "Epoch 68/100\n",
            "8/8 [==============================] - 23s 3s/step - loss: 0.1839 - acc: 0.9210 - val_loss: 2.1897 - val_acc: 0.6289\n",
            "Epoch 69/100\n",
            "8/8 [==============================] - 20s 2s/step - loss: 0.2266 - acc: 0.8773 - val_loss: 2.2302 - val_acc: 0.6016\n",
            "Epoch 70/100\n",
            "8/8 [==============================] - 26s 3s/step - loss: 0.1981 - acc: 0.9297 - val_loss: 2.0603 - val_acc: 0.6211\n",
            "Epoch 71/100\n",
            "8/8 [==============================] - 23s 3s/step - loss: 0.2464 - acc: 0.9132 - val_loss: 2.3315 - val_acc: 0.5938\n",
            "Epoch 72/100\n",
            "8/8 [==============================] - 23s 3s/step - loss: 0.3357 - acc: 0.8676 - val_loss: 2.4467 - val_acc: 0.5898\n",
            "Epoch 73/100\n",
            "8/8 [==============================] - 23s 3s/step - loss: 0.1755 - acc: 0.9288 - val_loss: 2.5969 - val_acc: 0.5820\n",
            "Epoch 74/100\n",
            "8/8 [==============================] - 26s 3s/step - loss: 0.2145 - acc: 0.9199 - val_loss: 2.6134 - val_acc: 0.5859\n",
            "Epoch 75/100\n",
            "8/8 [==============================] - 20s 3s/step - loss: 0.1503 - acc: 0.9328 - val_loss: 2.2178 - val_acc: 0.6367\n",
            "Epoch 76/100\n",
            "8/8 [==============================] - 23s 3s/step - loss: 0.2434 - acc: 0.9088 - val_loss: 1.1468 - val_acc: 0.6992\n",
            "Epoch 77/100\n",
            "8/8 [==============================] - 23s 3s/step - loss: 0.1978 - acc: 0.9210 - val_loss: 0.6474 - val_acc: 0.8086\n",
            "Epoch 78/100\n",
            "8/8 [==============================] - 26s 3s/step - loss: 0.2110 - acc: 0.9131 - val_loss: 2.5897 - val_acc: 0.5859\n",
            "Epoch 79/100\n",
            "8/8 [==============================] - 23s 3s/step - loss: 0.1855 - acc: 0.9277 - val_loss: 1.4567 - val_acc: 0.6836\n",
            "Epoch 80/100\n",
            "8/8 [==============================] - 22s 3s/step - loss: 0.1556 - acc: 0.9366 - val_loss: 1.7957 - val_acc: 0.6758\n",
            "Epoch 81/100\n",
            "8/8 [==============================] - 23s 3s/step - loss: 0.2722 - acc: 0.8687 - val_loss: 2.5382 - val_acc: 0.5742\n",
            "Epoch 82/100\n",
            "8/8 [==============================] - 26s 3s/step - loss: 0.1586 - acc: 0.9492 - val_loss: 2.8799 - val_acc: 0.5664\n",
            "Epoch 83/100\n",
            "8/8 [==============================] - 21s 3s/step - loss: 0.1386 - acc: 0.9225 - val_loss: 2.9150 - val_acc: 0.5664\n",
            "Epoch 84/100\n",
            "8/8 [==============================] - 27s 3s/step - loss: 0.1671 - acc: 0.9336 - val_loss: 3.6427 - val_acc: 0.5312\n",
            "Epoch 85/100\n",
            "8/8 [==============================] - 21s 3s/step - loss: 0.3064 - acc: 0.9186 - val_loss: 4.3875 - val_acc: 0.5039\n",
            "Epoch 86/100\n",
            "8/8 [==============================] - 27s 3s/step - loss: 0.2218 - acc: 0.9141 - val_loss: 1.8792 - val_acc: 0.6445\n",
            "Epoch 87/100\n",
            "8/8 [==============================] - 24s 3s/step - loss: 0.1911 - acc: 0.9266 - val_loss: 2.2529 - val_acc: 0.6250\n",
            "Epoch 88/100\n",
            "8/8 [==============================] - 21s 3s/step - loss: 0.1955 - acc: 0.9238 - val_loss: 2.1463 - val_acc: 0.6211\n",
            "Epoch 89/100\n",
            "8/8 [==============================] - 27s 3s/step - loss: 0.1528 - acc: 0.9463 - val_loss: 3.3423 - val_acc: 0.5625\n",
            "Epoch 90/100\n",
            "8/8 [==============================] - 24s 3s/step - loss: 0.1410 - acc: 0.9433 - val_loss: 2.3070 - val_acc: 0.6250\n",
            "Epoch 91/100\n",
            "8/8 [==============================] - 24s 3s/step - loss: 0.1893 - acc: 0.9199 - val_loss: 2.5301 - val_acc: 0.6094\n",
            "Epoch 92/100\n",
            "8/8 [==============================] - 27s 3s/step - loss: 0.1422 - acc: 0.9492 - val_loss: 1.8836 - val_acc: 0.6641\n",
            "Epoch 93/100\n",
            "8/8 [==============================] - 23s 3s/step - loss: 0.1373 - acc: 0.9410 - val_loss: 2.0537 - val_acc: 0.6602\n",
            "Epoch 94/100\n",
            "8/8 [==============================] - 20s 2s/step - loss: 0.1181 - acc: 0.9419 - val_loss: 3.2905 - val_acc: 0.5742\n",
            "Epoch 95/100\n",
            "8/8 [==============================] - 26s 3s/step - loss: 0.1887 - acc: 0.9316 - val_loss: 2.1107 - val_acc: 0.6484\n",
            "Epoch 96/100\n",
            "8/8 [==============================] - 20s 2s/step - loss: 0.1571 - acc: 0.9186 - val_loss: 3.5541 - val_acc: 0.5625\n",
            "Epoch 97/100\n",
            "8/8 [==============================] - 26s 3s/step - loss: 0.1240 - acc: 0.9600 - val_loss: 2.6164 - val_acc: 0.6250\n",
            "Epoch 98/100\n",
            "8/8 [==============================] - 20s 2s/step - loss: 0.1904 - acc: 0.9225 - val_loss: 2.5625 - val_acc: 0.6055\n",
            "Epoch 99/100\n",
            "8/8 [==============================] - 26s 3s/step - loss: 0.1345 - acc: 0.9482 - val_loss: 2.1558 - val_acc: 0.6484\n",
            "Epoch 100/100\n",
            "8/8 [==============================] - 23s 3s/step - loss: 0.0998 - acc: 0.9566 - val_loss: 3.1083 - val_acc: 0.6172\n"
          ],
          "name": "stdout"
        }
      ]
    },
    {
      "cell_type": "code",
      "metadata": {
        "id": "7zNPRWOVJdOH",
        "colab_type": "code",
        "colab": {
          "base_uri": "https://localhost:8080/",
          "height": 545
        },
        "outputId": "5045526c-fe9f-4732-9609-a90e8d8be619"
      },
      "source": [
        "import matplotlib.pyplot as plt\n",
        "acc = history.history['acc']\n",
        "val_acc = history.history['val_acc']\n",
        "loss = history.history['loss']\n",
        "val_loss = history.history['val_loss']\n",
        "\n",
        "epochs = range(len(acc))\n",
        "\n",
        "plt.plot(epochs, acc, 'r', label='Training accuracy')\n",
        "plt.plot(epochs, val_acc, 'b', label='Validation accuracy')\n",
        "plt.title('Training and validation accuracy')\n",
        "\n",
        "plt.figure()\n",
        "\n",
        "plt.plot(epochs, loss, 'r', label='Training Loss')\n",
        "plt.plot(epochs, val_loss, 'b', label='Validation Loss')\n",
        "plt.title('Training and validation loss')\n",
        "plt.legend()\n",
        "\n",
        "plt.show()"
      ],
      "execution_count": 7,
      "outputs": [
        {
          "output_type": "display_data",
          "data": {
            "image/png": "[encoded data removed]",
            "text/plain": [
              "<Figure size 432x288 with 1 Axes>"
            ]
          },
          "metadata": {
            "tags": []
          }
        },
        {
          "output_type": "display_data",
          "data": {
            "image/png": "[encoded data removed]",
            "text/plain": [
              "<Figure size 432x288 with 1 Axes>"
            ]
          },
          "metadata": {
            "tags": []
          }
        }
      ]
    },
    {
      "cell_type": "markdown",
      "metadata": {
        "id": "MjOwWyejCdKe",
        "colab_type": "text"
      },
      "source": [
        "The problem is Data augmentation introduces a random element to the training images but if **validation set doesn't have the same randomness**, **the type of images too close to the images in the training set**."
      ]
    }
  ]
}